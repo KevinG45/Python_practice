{
 "cells": [
  {
   "cell_type": "code",
   "execution_count": 30,
   "id": "21500d6d",
   "metadata": {},
   "outputs": [
    {
     "name": "stdout",
     "output_type": "stream",
     "text": [
      "d\n",
      "l\n",
      "r\n",
      "o\n",
      "w\n",
      " \n",
      "o\n",
      "l\n",
      "l\n",
      "e\n",
      "h\n"
     ]
    }
   ],
   "source": [
    "'''1.Write a function that takes a string as an argument \n",
    "and displays the letters backward, one per line.'''\n",
    "\n",
    "def rev_str(n):\n",
    "    m=n[::-1]\n",
    "    for i in m:\n",
    "        print(i)\n",
    "rev_str(\"hello world\")"
   ]
  },
  {
   "cell_type": "code",
   "execution_count": 4,
   "id": "b1291013",
   "metadata": {},
   "outputs": [
    {
     "data": {
      "text/plain": [
       "0"
      ]
     },
     "execution_count": 4,
     "metadata": {},
     "output_type": "execute_result"
    }
   ],
   "source": [
    "'''2.Consider the following function \n",
    "def find(word, letter):\n",
    "    index = 0\n",
    "    while index < len(word):\n",
    "        if word[index] == letter:\n",
    "            return index\n",
    "        index = index + 1\n",
    "    return -1\n",
    "Modify find so that it has a third parameter, the index in word where it should start looking.\n",
    "'''\n",
    "def find(word, letter,index):\n",
    "    #index = 0\n",
    "    while index < len(word):\n",
    "        if word[index] == letter:\n",
    "            return index\n",
    "        index = index + 1\n",
    "    print(\"not found\")\n",
    "find(\"hello\",\"h\",0)\n"
   ]
  },
  {
   "cell_type": "code",
   "execution_count": null,
   "id": "5a739894",
   "metadata": {},
   "outputs": [],
   "source": [
    " "
   ]
  },
  {
   "cell_type": "code",
   "execution_count": 14,
   "id": "15d0c5de",
   "metadata": {},
   "outputs": [
    {
     "name": "stdout",
     "output_type": "stream",
     "text": [
      "c[bed"
     ]
    }
   ],
   "source": [
    "'''3.ROT13 is an encryption that involves “rotating” each letter in a word by 13 places. To rotate a letter means to shift it through the alphabet, wrapping around to the beginning if necessary, so ’A’ shifted by 3 is ’D’ and ’Z’ shifted by 1 is ’A’.\n",
    "Write a function called my_rot13 that takes a string and an integer as parameters, and that returns a new string that contains the letters from the original string “rotated” by the given amount.\n",
    "For example, “cheer” rotated by 7 is “jolly” and “melon” rotated by -10 is “cubed”.\n",
    "Hint:  use the built-in functions ord, which converts a character to a numeric code, and chr, which converts numeric codes to characters.\n",
    "'''\n",
    "def my_rot13(s,n):\n",
    "    \n",
    "    new_str=''\n",
    "    for i in s.lower():\n",
    "        if i.isalpha():\n",
    "            a=ord(i)+n\n",
    "            s=chr(a)\n",
    "            d=s+new_str\n",
    "            print(d,end='')\n",
    "        else:\n",
    "            break\n",
    "\n",
    "my_rot13(\"melon\",-10)"
   ]
  },
  {
   "cell_type": "code",
   "execution_count": 17,
   "id": "63058c07",
   "metadata": {},
   "outputs": [
    {
     "data": {
      "text/plain": [
       "'jolly'"
      ]
     },
     "execution_count": 17,
     "metadata": {},
     "output_type": "execute_result"
    }
   ],
   "source": [
    "def my_rot13(s, n):\n",
    "    result = \"\"\n",
    "    for char in s:\n",
    "        if char.isalpha():\n",
    "            if char.islower():\n",
    "                result += chr((ord(char.lower()) - 97 + n) % 26 + 97)  \n",
    "            else:\n",
    "                chr((ord(char) - 65 + n) % 26 + 65)\n",
    "        else:\n",
    "            result += char\n",
    "    return result\n",
    "my_rot13(\"cheer\",7)     "
   ]
  },
  {
   "cell_type": "code",
   "execution_count": null,
   "id": "c6f79c6c",
   "metadata": {},
   "outputs": [],
   "source": []
  }
 ],
 "metadata": {
  "kernelspec": {
   "display_name": "Python 3 (ipykernel)",
   "language": "python",
   "name": "python3"
  },
  "language_info": {
   "codemirror_mode": {
    "name": "ipython",
    "version": 3
   },
   "file_extension": ".py",
   "mimetype": "text/x-python",
   "name": "python",
   "nbconvert_exporter": "python",
   "pygments_lexer": "ipython3",
   "version": "3.12.5"
  }
 },
 "nbformat": 4,
 "nbformat_minor": 5
}
