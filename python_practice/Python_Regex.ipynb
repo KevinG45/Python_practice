{
 "cells": [
  {
   "cell_type": "markdown",
   "id": "690c8c42-b0e2-4c1e-aa6b-b6428b6acceb",
   "metadata": {},
   "source": [
    "\"\"\"Write the following functions and use “re” to get the solution \n",
    "Write a function named “LoveForFrenchFries” which takes in a string and returns the number of times the word ”potato” is in the given string. \n",
    "Example:\n",
    "LoveForFrenchFries(“potato”)-> 1\n",
    "LoveForFrenchFries(“potatopotato”) ->2\n",
    "Note: Let the input string be of  continuous letters like the above examples.\n",
    "\"\"\""
   ]
  },
  {
   "cell_type": "code",
   "execution_count": 1,
   "id": "0b3061f1",
   "metadata": {},
   "outputs": [
    {
     "name": "stdout",
     "output_type": "stream",
     "text": [
      "Enter a string:  \n"
     ]
    },
    {
     "name": "stdout",
     "output_type": "stream",
     "text": [
      "The string is empty. Please enter a valid string.\n"
     ]
    },
    {
     "name": "stdout",
     "output_type": "stream",
     "text": [
      "Enter a string:  potatoispotatowaspotatoes\n"
     ]
    },
    {
     "name": "stdout",
     "output_type": "stream",
     "text": [
      "The word 'potato' appears 3 times in the given string.\n"
     ]
    }
   ],
   "source": [
    "\n",
    "#lab program 6\n",
    "#kevin george\n",
    "#06-08-24\n",
    "import re\n",
    "\n",
    "def LoveForFrenchFries(s):\n",
    "    matches = re.findall(r'potato', s, re.IGNORECASE)\n",
    "    return len(matches)\n",
    "\n",
    "while True:\n",
    "    user_input = input(\"Enter a string: \").strip()  \n",
    "    if not user_input:\n",
    "        print(\"The string is empty. Please enter a valid string.\")\n",
    "    else:\n",
    "        result = LoveForFrenchFries(user_input)\n",
    "        print(f\"The word 'potato' appears {result} times in the given string.\")\n",
    "        break  \n"
   ]
  },
  {
   "cell_type": "markdown",
   "id": "42294b72-ff70-47ec-9ab2-6014f5094390",
   "metadata": {},
   "source": [
    "2.\"\"\"Write a function called “LinkVowels” which takes a string and returns True if one word ends with a vowel and the adjacent starts with a vowel.\n",
    "Example:\n",
    "LinkVowels(“code all functions”)->True ( “code” ends with vowel and “all” starts with vowel)\n",
    "LinkVowels(“ These are crazy ones”)-> True (“These” ends with vowel and “are” starts with a vowel)\n",
    "LinkVowels(“This sucks”)-> False\n",
    "\"\"\""
   ]
  },
  {
   "cell_type": "code",
   "execution_count": 12,
   "id": "95d232dc",
   "metadata": {},
   "outputs": [
    {
     "name": "stdout",
     "output_type": "stream",
     "text": [
      "Enter a string: code,. all functions\n",
      "True\n"
     ]
    }
   ],
   "source": [
    "import re\n",
    "\n",
    "def LinkVowels():\n",
    "    while True:\n",
    "        s = input(\"Enter a string: \").strip()\n",
    "        if not s:\n",
    "            print(\"The string is empty. Please enter a valid string.\")\n",
    "        else:\n",
    "            pattern = r'\\b\\w*[aeiou]\\b\\W*\\b[aeiou]\\w*\\b'\n",
    "            result = bool(re.search(pattern, s, re.IGNORECASE))\n",
    "            print(result)\n",
    "            break \n",
    "\n",
    "\n",
    "LinkVowels()\n",
    "\n",
    "\n"
   ]
  },
  {
   "cell_type": "markdown",
   "id": "4d304a36-93b5-49f7-bcdd-3509a387f636",
   "metadata": {},
   "source": [
    "3.Write a function “MyScottishAccent” which takes in a string and replaces every occurrence of “o” with “u”.\n",
    "Example:\n",
    "\n",
    "MyScottishAccent(“hello python coders”)->”hellu pythun cuders”\n",
    "MyScottishAccent(“computer nerd”)->”cumputer nerd”\n",
    "\n",
    "\n"
   ]
  },
  {
   "cell_type": "code",
   "execution_count": 9,
   "id": "f6251c03",
   "metadata": {},
   "outputs": [
    {
     "name": "stdout",
     "output_type": "stream",
     "text": [
      "Enter a string:   heyy, my name is kevin george , how are you today? all good?\n"
     ]
    },
    {
     "name": "stdout",
     "output_type": "stream",
     "text": [
      "Converted string:  heyy, my name is kevin geurge , huw are yuu tuday? all guud?\n"
     ]
    }
   ],
   "source": [
    "import re\n",
    "\n",
    "def MyScottishAccent():\n",
    "    while True:\n",
    "        user_input = input(\"Enter a string: \")\n",
    "\n",
    "        # Check if the input string is empty\n",
    "        if not user_input.strip():\n",
    "            print(\"You entered an empty string. Please enter a valid string.\")\n",
    "            continue  # Ask for input again\n",
    "\n",
    "        \n",
    "        result = re.sub(r'o', 'u', user_input,flags=re.IGNORECASE)\n",
    "        print(f\"Converted string: {result}\")\n",
    "\n",
    "        break  # Exit the loop after successful processing\n",
    "\n",
    "MyScottishAccent()\n"
   ]
  },
  {
   "cell_type": "markdown",
   "id": "45ac9b3e-6a5e-486f-b393-722bd6e4ee43",
   "metadata": {},
   "source": [
    "4.Write a function called “LonelyOne” which returns the number of “1’s” which are lonely.  1is lonely if it is not immediately followed by another 1.See the example for better understanding of  “lonely”. \n",
    "Example:\n",
    "LonelyOne(101)-> 2 (“1” is lonely twice)\n",
    "LonelyOne(1111)->0\n",
    "LonelyOne(444)->0\n",
    "Note: You can take the input as a string also \n"
   ]
  },
  {
   "cell_type": "code",
   "execution_count": 2,
   "id": "763baba8-8f64-452c-b970-e4585ffecadb",
   "metadata": {},
   "outputs": [
    {
     "name": "stdout",
     "output_type": "stream",
     "text": [
      "Enter a string:  afjijafi\n"
     ]
    },
    {
     "name": "stdout",
     "output_type": "stream",
     "text": [
      "Number of lonely '1's: 0\n"
     ]
    }
   ],
   "source": [
    "import re\n",
    "\n",
    "def LonelyOne():\n",
    "    while True:\n",
    "        user_input = input(\"Enter a string: \")\n",
    "\n",
    "        # Check if the input string is empty\n",
    "        if not user_input.strip():\n",
    "            print(\"You entered an empty string or you entered an invalid string+-. Please enter a valid string.\")\n",
    "            continue  # Ask for input again\n",
    "\n",
    "        # Pattern to find lonely '1's\n",
    "        pattern = r'(?<!1)1(?!1)'\n",
    "        lonely_ones = re.findall(pattern, user_input)\n",
    "        return len(lonely_ones)\n",
    "\n",
    "# Call the function and print the result\n",
    "result = LonelyOne()\n",
    "print(f\"Number of lonely '1's: {result}\")\n"
   ]
  },
  {
   "cell_type": "code",
   "execution_count": null,
   "id": "07429e45-36a8-4865-a076-215af70145c3",
   "metadata": {},
   "outputs": [],
   "source": []
  }
 ],
 "metadata": {
  "kernelspec": {
   "display_name": "Python 3 (ipykernel)",
   "language": "python",
   "name": "python3"
  },
  "language_info": {
   "codemirror_mode": {
    "name": "ipython",
    "version": 3
   },
   "file_extension": ".py",
   "mimetype": "text/x-python",
   "name": "python",
   "nbconvert_exporter": "python",
   "pygments_lexer": "ipython3",
   "version": "3.12.5"
  }
 },
 "nbformat": 4,
 "nbformat_minor": 5
}
