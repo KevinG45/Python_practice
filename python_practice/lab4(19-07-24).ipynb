{
 "cells": [
  {
   "cell_type": "code",
   "execution_count": 1,
   "id": "de99b4c6",
   "metadata": {},
   "outputs": [],
   "source": [
    "#function that creates the factorial of a number\n",
    "def fact(n):\n",
    "    if n==0 or n==1:\n",
    "        #print(\"the factorial is 1\")\n",
    "        return 1\n",
    "    else:\n",
    "        result=1\n",
    "        for i in range(1,n+1):\n",
    "            result*=i\n",
    "        #print(f\"the factorial of {n} is {result}\")\n",
    "        return result"
   ]
  },
  {
   "cell_type": "code",
   "execution_count": 4,
   "id": "dfb80630",
   "metadata": {},
   "outputs": [
    {
     "name": "stdout",
     "output_type": "stream",
     "text": [
      "enter an integer:5\n",
      "{1: 1, 2: 2, 3: 6, 4: 24, 5: 120}\n"
     ]
    }
   ],
   "source": [
    "#code to enter an integer and store the value and the facorial in a dictionary\n",
    "n=int(input(\"enter an integer:\"))\n",
    "d={i:fact(i) for i in range(1,n+1)}\n",
    "#d[i]=fact(i)\n",
    "print(d)\n",
    "    "
   ]
  },
  {
   "cell_type": "code",
   "execution_count": 7,
   "id": "11d645a0",
   "metadata": {},
   "outputs": [],
   "source": [
    "\n",
    "\n",
    "#password=input(\"Heyyy, Enter a Strong and Unique Password Please\")\n",
    "#print(\"1.length of the password must excede 8 characters\")\n",
    "#while password:\n",
    " #   if len(password)<8:\n",
    "  #      print(\"please enter a strong password\")\n",
    "   # elif password[]\n",
    "\n"
   ]
  },
  {
   "cell_type": "code",
   "execution_count": 1,
   "id": "9f11d0de",
   "metadata": {},
   "outputs": [
    {
     "name": "stdout",
     "output_type": "stream",
     "text": [
      "Enter your password: kevin\n",
      "Your password is not strong enough. Suggested strong password:  StrongP@ssw0rd!\n"
     ]
    }
   ],
   "source": [
    "\"\"\"Write a python script which accepts the password as input \n",
    "and checks if it is strong or not. If it is strong print the following statement \n",
    "“Secure Password! Go Ahead and Register.” Else suggest a strong password. \n",
    "You need to use lambda functions for checking if the password is strong or not\"\"\"\n",
    "# Function to check if a password is strong\n",
    "special_chars = ['!', '@', '#', '$', '%', '^', '&', '*', '(', ')', '-', '_', '=', '+', '[', ']', '{', '}', '|', ';', ',', '.', '<', '>', '?', '/']\n",
    "is_strong = lambda pwd: (\n",
    "    len(pwd) >= 8 and\n",
    "    any(c.isupper() for c in pwd) and\n",
    "    any(c.isdigit() for c in pwd) and\n",
    "    any(c in special_chars for c in pwd)\n",
    ")\n",
    "\n",
    "# Default strong password\n",
    "default_password = \"StrongP@ssw0rd!\"\n",
    "\n",
    "# Input password from user\n",
    "password = input(\"Enter your password: \")\n",
    "\n",
    "# Check if the password is strong\n",
    "if is_strong(password):\n",
    "    print(\"Secure Password! Go Ahead and Register.\")\n",
    "else:\n",
    "    print(\"Your password is not strong enough. Suggested strong password: \", default_password)\n"
   ]
  },
  {
   "cell_type": "code",
   "execution_count": null,
   "id": "a4d0ed16",
   "metadata": {},
   "outputs": [],
   "source": []
  },
  {
   "cell_type": "code",
   "execution_count": null,
   "id": "40528229",
   "metadata": {},
   "outputs": [],
   "source": []
  }
 ],
 "metadata": {
  "kernelspec": {
   "display_name": "Python 3 (ipykernel)",
   "language": "python",
   "name": "python3"
  },
  "language_info": {
   "codemirror_mode": {
    "name": "ipython",
    "version": 3
   },
   "file_extension": ".py",
   "mimetype": "text/x-python",
   "name": "python",
   "nbconvert_exporter": "python",
   "pygments_lexer": "ipython3",
   "version": "3.12.5"
  }
 },
 "nbformat": 4,
 "nbformat_minor": 5
}
