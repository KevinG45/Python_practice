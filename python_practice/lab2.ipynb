{
 "cells": [
  {
   "cell_type": "code",
   "execution_count": 29,
   "id": "7ed36402",
   "metadata": {},
   "outputs": [
    {
     "name": "stdout",
     "output_type": "stream",
     "text": [
      "['movery']\n"
     ]
    }
   ],
   "source": [
    "'''You are an excellent “English Linguist” and also love to code in Python. Write a python script “connect” that connects each previous word to the next word. Print the resulting string (removing duplicate characters in the overlap). More specifically, look at the overlap between the previous words ending letters and the next word's beginning letters.\n",
    "\n",
    "Example  connect([\"move\", \"over\", \"very\"]) gives [“movery”]'''\n",
    "\n",
    "a=[\"move\", \"over\", \"very\"]\n",
    "def connect(n):\n",
    "    b=n[0]+n[1]+n[2]\n",
    "    c=''\n",
    "    d=[]\n",
    "    for i in b:\n",
    "        if i not in c:\n",
    "            c=c+i\n",
    "    d.append(c)\n",
    "    print(d) \n",
    "connect(a)"
   ]
  },
  {
   "cell_type": "code",
   "execution_count": 35,
   "id": "8855e491",
   "metadata": {},
   "outputs": [
    {
     "name": "stdout",
     "output_type": "stream",
     "text": [
      "['movery']\n"
     ]
    }
   ],
   "source": [
    "a=[\"move\", \"over\", \"very\"]\n",
    "def connect(n):\n",
    "    b=''\n",
    "    c=''\n",
    "    d=[]\n",
    "    for i in range(len(n)):\n",
    "        b=b+n[i]\n",
    "   \n",
    "    for i in b:\n",
    "        if i not in c:\n",
    "            c=c+i\n",
    "    d.append(c)\n",
    "    print(d) \n",
    "connect(a)"
   ]
  },
  {
   "cell_type": "code",
   "execution_count": null,
   "id": "e1e654d3",
   "metadata": {},
   "outputs": [],
   "source": []
  }
 ],
 "metadata": {
  "kernelspec": {
   "display_name": "Python 3 (ipykernel)",
   "language": "python",
   "name": "python3"
  },
  "language_info": {
   "codemirror_mode": {
    "name": "ipython",
    "version": 3
   },
   "file_extension": ".py",
   "mimetype": "text/x-python",
   "name": "python",
   "nbconvert_exporter": "python",
   "pygments_lexer": "ipython3",
   "version": "3.12.5"
  }
 },
 "nbformat": 4,
 "nbformat_minor": 5
}
