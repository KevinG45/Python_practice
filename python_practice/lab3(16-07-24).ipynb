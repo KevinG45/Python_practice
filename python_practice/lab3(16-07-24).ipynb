{
 "cells": [
  {
   "cell_type": "code",
   "execution_count": 2,
   "id": "d7472f55",
   "metadata": {},
   "outputs": [],
   "source": [
    "#A dictionary with the morse code values\n",
    "morse_code = { 'A':'.-', 'B':'-...','C':'-.-.', 'D':'-..', 'E':'.','F':'..-.', 'G':'--.', 'H':'....','I':'..', 'J':'.---', 'K':'-.-',\n",
    "            'L':'.-..', 'M':'--', 'N':'-.','O':'---', 'P':'.--.', 'Q':'--.-','R':'.-.', 'S':'...', 'T':'-','U':'..-', 'V':'...-', 'W':'.--',\n",
    "            'X':'-..-', 'Y':'-.--', 'Z':'--..',\n",
    "            '1':'.----', '2':'..---', '3':'...--','4':'....-', '5':'.....', '6':'-....','7':'--...', '8':'---..', '9':'----.',\n",
    "            '0':'-----', ', ':'--..--', '.':'.-.-.-','?':'..--..', '/':'-..-.', '-':'-....-','(':'-.--.', ')':'-.--.-','!':'-.-.--',\"'\":'.----.','\"':'.-..-.','&':'.-...','=':'-...-','+':'.-.-.','$':'...-..-','@':'.--.-.','_':'..--.-'}\n"
   ]
  },
  {
   "cell_type": "code",
   "execution_count": 15,
   "id": "8de40e3f",
   "metadata": {},
   "outputs": [
    {
     "name": "stdout",
     "output_type": "stream",
     "text": [
      "enter a string value:kwv123\n",
      "the encrypted text is -.- .-- ...- .---- ..--- ...-- \n"
     ]
    }
   ],
   "source": [
    "#function that takes a string as input and gives the morse code value\n",
    "\n",
    "def call_morse():\n",
    "    s=''\n",
    "    \n",
    "    m=input(\"enter a string value:\").upper()\n",
    "    if m.isalnum()==False:\n",
    "        print(\"Please enter a string value\")\n",
    "    else:\n",
    "        for i in m:\n",
    "            if i in morse_code.keys():\n",
    "                s=s+morse_code[i]+\" \"\n",
    "        print(f\"the encrypted text is {s}\")\n",
    "\n",
    "          \n",
    "call_morse()"
   ]
  },
  {
   "cell_type": "code",
   "execution_count": 3,
   "id": "c03c4780",
   "metadata": {},
   "outputs": [
    {
     "name": "stdout",
     "output_type": "stream",
     "text": [
      "enter a morse code:(use spaces between characters and '/' between words)-.- . ...- .. -. / -- .- - / --. . --- .-.\n",
      "['k']\n",
      "['k', 'e']\n",
      "['k', 'e', 'v']\n",
      "['k', 'e', 'v', 'i']\n",
      "['k', 'e', 'v', 'i', 'n']\n",
      "['m']\n",
      "['m', 'a']\n",
      "['m', 'a', 't']\n",
      "['g']\n",
      "['g', 'e']\n",
      "['g', 'e', 'o']\n",
      "['g', 'e', 'o', 'r']\n",
      "['kevin', 'Mat', 'Geor']\n",
      "the decrpyted value is kevinMatGeor\n"
     ]
    }
   ],
   "source": [
    "\n",
    "#function that takes morse code as input and returns A STRING In camcelcase as output\n",
    "def morse_call(code):\n",
    "    #code to reverse the dictionary called morse code\n",
    "    reversed = {}\n",
    "    for key, value in code.items():\n",
    "        reversed[value]=key\n",
    "    \n",
    "    s=[]\n",
    "    k=''\n",
    "    m=input(\"enter a morse code:(use spaces between characters and '/' between words)\")\n",
    "    #split the words and enter them into a list \n",
    "    if m.isalnum()==True:\n",
    "        print(\"Please enter a morse code value\")\n",
    "    else:\n",
    "        M=m.split('/')\n",
    "        #print(M)\n",
    "        #iterate through the words and split them into letters\n",
    "        for d , v in enumerate(M):\n",
    "            w=v.split()\n",
    "            words=[]\n",
    "            \n",
    "\n",
    "            for i in w:\n",
    "                if i in reversed:\n",
    "                    \n",
    "                    #make all the letters in lowercase\n",
    "                    words.append(reversed[i].lower())\n",
    "                \n",
    "            if words:\n",
    "                if d==0:\n",
    "                    #the first letter of the first word becomes lower\n",
    "                    words[0]=words[0].lower()\n",
    "                else:\n",
    "                    #the first letter of the subsiquent words are uppercase\n",
    "                    words[0]=words[0].capitalize()\n",
    "\n",
    "\n",
    "\n",
    "            s.append(''.join(words))\n",
    "    \n",
    "            \n",
    "    #print(s)\n",
    "        k=''.join(s)\n",
    "\n",
    "\n",
    "        print(f\"the decrpyted value is {k}\")\n",
    "morse_call(morse_code)\n"
   ]
  },
  {
   "cell_type": "code",
   "execution_count": null,
   "id": "9f06ad47",
   "metadata": {},
   "outputs": [],
   "source": [
    "-.- . ...- .. -. / -- .- - / --. . --- .-."
   ]
  },
  {
   "cell_type": "code",
   "execution_count": null,
   "id": "01cc36bd",
   "metadata": {},
   "outputs": [],
   "source": [
    "\n"
   ]
  },
  {
   "cell_type": "code",
   "execution_count": null,
   "id": "671a63b6",
   "metadata": {},
   "outputs": [],
   "source": []
  }
 ],
 "metadata": {
  "kernelspec": {
   "display_name": "Python 3 (ipykernel)",
   "language": "python",
   "name": "python3"
  },
  "language_info": {
   "codemirror_mode": {
    "name": "ipython",
    "version": 3
   },
   "file_extension": ".py",
   "mimetype": "text/x-python",
   "name": "python",
   "nbconvert_exporter": "python",
   "pygments_lexer": "ipython3",
   "version": "3.12.5"
  }
 },
 "nbformat": 4,
 "nbformat_minor": 5
}
