{
 "cells": [
  {
   "cell_type": "code",
   "execution_count": 2,
   "id": "e97c907e",
   "metadata": {},
   "outputs": [
    {
     "name": "stdout",
     "output_type": "stream",
     "text": [
      "Account Number: 12345678, Balance: $500.00\n",
      "Deposited $200.00. New Balance: $700.00\n",
      "Withdrew $100.00. New Balance: $600.00\n",
      "Account Number: 87654321, Balance: $1500.00\n",
      "Deposited $500.00. New Balance: $2000.00\n",
      "Insufficient funds.\n",
      "Account Number: 00000000, Balance: $0.00\n",
      "Deposited $300.00. New Balance: $300.00\n",
      "Withdrew $50.00. New Balance: $250.00\n"
     ]
    }
   ],
   "source": [
    "#lab program 5\n",
    "#KEVIN GEORGE\n",
    "#02-08-24\n",
    "\n",
    "class BankAccount:\n",
    "    def __init__(self, account_number, balance):\n",
    "        self.account_number = self.validate_account_number(account_number)\n",
    "        self.balance = self.validate_balance(balance)\n",
    "    \n",
    "    def validate_account_number(self, account_number):\n",
    "        if isinstance(account_number, str) and account_number.strip():\n",
    "            return account_number\n",
    "        return \"00000000\"  # Default account number\n",
    "    \n",
    "    def validate_balance(self, balance):\n",
    "        if isinstance(balance, (int, float)) and balance >= 0:\n",
    "            return balance\n",
    "        return 0.0  # Default balance\n",
    "    \n",
    "    def display_info(self):\n",
    "        print(f\"Account Number: {self.account_number}, Balance: ${self.balance:.2f}\")\n",
    "    \n",
    "    def deposit(self, amount):\n",
    "        if amount > 0:\n",
    "            self.balance += amount\n",
    "            print(f\"Deposited ${amount:.2f}. New Balance: ${self.balance:.2f}\")\n",
    "        else:\n",
    "            print(\"Deposit amount must be positive.\")\n",
    "    \n",
    "    def withdraw(self, amount):\n",
    "        if amount > 0 and amount <= self.balance:\n",
    "            self.balance -= amount\n",
    "            print(f\"Withdrew ${amount:.2f}. New Balance: ${self.balance:.2f}\")\n",
    "        elif amount > self.balance:\n",
    "            print(\"Insufficient funds.\")\n",
    "        else:\n",
    "            print(\"Withdrawal amount must be positive.\")\n",
    "\n",
    "# Creating three objects of the BankAccount class\n",
    "account1 = BankAccount(\"12345678\", 500.0)\n",
    "account2 = BankAccount(\"87654321\", 1500.0)\n",
    "account3 = BankAccount(\"\", -100.0)\n",
    "\n",
    "# Calling methods on the objects\n",
    "account1.display_info() \n",
    "account1.deposit(200)    \n",
    "account1.withdraw(100)   \n",
    "\n",
    "account2.display_info()  \n",
    "account2.deposit(500)    \n",
    "account2.withdraw(2500)  \n",
    "\n",
    "account3.display_info()  \n",
    "account3.deposit(300)    \n",
    "account3.withdraw(50)    \n"
   ]
  },
  {
   "cell_type": "code",
   "execution_count": null,
   "id": "8b88c6e5",
   "metadata": {},
   "outputs": [],
   "source": []
  }
 ],
 "metadata": {
  "kernelspec": {
   "display_name": "Python 3 (ipykernel)",
   "language": "python",
   "name": "python3"
  },
  "language_info": {
   "codemirror_mode": {
    "name": "ipython",
    "version": 3
   },
   "file_extension": ".py",
   "mimetype": "text/x-python",
   "name": "python",
   "nbconvert_exporter": "python",
   "pygments_lexer": "ipython3",
   "version": "3.12.5"
  }
 },
 "nbformat": 4,
 "nbformat_minor": 5
}
