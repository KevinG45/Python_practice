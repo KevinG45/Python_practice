{
 "cells": [
  {
   "cell_type": "code",
   "execution_count": 5,
   "id": "20ae123c",
   "metadata": {},
   "outputs": [
    {
     "data": {
      "text/plain": [
       "'google.'"
      ]
     },
     "execution_count": 5,
     "metadata": {},
     "output_type": "execute_result"
    }
   ],
   "source": [
    "\"\"\"Write a function “GoogleLove()” that takes a list and returns a string . Your input should be numbers having 1,2,3,4,5,6,7,8(zero and nine  are not be included). Consider the following rules for returning the string\n",
    "1, 2, 3, 4 = g, o, l, e\n",
    "5 Corresponding to up case of letter before this.\n",
    "6 Add a point to the end.\n",
    "7 Change case of the first letter.\n",
    "8 Reverse the string.\n",
    "\"\"\"\n",
    "#lAB PROGRAM:2(LISTS)\n",
    "#Name:Kevin George\n",
    "#9/7/24\n",
    "#version 1\n",
    "def GoogleLove(n):\n",
    "    x=\"\"                      #creating an empty string to store the string\n",
    "    for i in str(n):\n",
    "        match i:\n",
    "            case \"1\":\n",
    "                x=x+\"g\"\n",
    "            case \"2\":\n",
    "                x=x+\"o\"\n",
    "            case \"3\":\n",
    "                x=x+\"l\"\n",
    "            case \"4\"\n",
    "                x=x+\"e\"\n",
    "            case \"5\":\n",
    "                #X=x[-1].upper()         #this method works except in situations where one alphabet is repeated twice as it makes\n",
    "                #x=x.replace(x[-1],X,1) # both alphabets upper\n",
    "                \n",
    "                n=len(x)\n",
    "                x=x[:n-1]+x[-1].upper()\n",
    "            case \"6\":\n",
    "                x=x+\".\"\n",
    "            case \"7\":\n",
    "                y=x[0].swapcase()       #this method works except in cases where the alphabet in the first case is repeated twice\n",
    "                x=x.replace(x[0],y,1)\n",
    "                #x=x.capitalize()       #this method works perfectly but if it cancel's out the effect of case 5\n",
    "                \n",
    "            case \"8\":\n",
    "                x=x[::-1]\n",
    "            \n",
    "    return x\n",
    "            \n",
    "GoogleLove([\"152213467\"])       \n",
    "#\"\"\"problems with this code\n",
    "#1.case 5 doesnt work when there are multiple occurances of the same alphabet\n",
    "#2.case 6 doesnt not place the . at the end of the string but at the exact position it is placed in the list\"\"\""
   ]
  },
  {
   "cell_type": "code",
   "execution_count": 5,
   "id": "92751f20",
   "metadata": {},
   "outputs": [
    {
     "name": "stdout",
     "output_type": "stream",
     "text": [
      "there is no alphabet before 5 so no changes are made\n"
     ]
    },
    {
     "data": {
      "text/plain": [
       "'google.'"
      ]
     },
     "execution_count": 5,
     "metadata": {},
     "output_type": "execute_result"
    }
   ],
   "source": [
    "#lAB PROGRAM:2(LISTS)\n",
    "#Name:Kevin George\n",
    "#9/7/24\n",
    "#version 2\n",
    "def GoogleLove(n):\n",
    "    x=\"\"        #creating an empty string to store the string.\n",
    "    flag=False  #defining flag as false so that we can use it in case 6 , which is used to add \".\" to the end.\n",
    "    \n",
    "    #looping through the entire list typecasted as a string\n",
    "    for i in str(n):\n",
    "        \n",
    "        #similar to switch case, it checks if \"i\" matches any of the cases and excutes the required block of code \n",
    "        match i:   \n",
    "            #case1-4 uses basic string concatenation.\n",
    "            case \"1\":\n",
    "                x=x+\"g\"\n",
    "            case \"2\":\n",
    "                x=x+\"o\"\n",
    "            case \"3\":\n",
    "                x=x+\"l\"\n",
    "            case \"4\":\n",
    "                x=x+\"e\"\n",
    "            #checks if the last added value is an alphabet and makes it into an uppercase character,if not it iterates\n",
    "            #until it can find the last entry that is an alphabet\"\"\" \n",
    "            case \"5\":\n",
    "                n = len(x) - 1\n",
    "                while n >= 0 and x[n].isalpha()==False:\n",
    "                    n -= 1\n",
    "                if n>=0:\n",
    "                    x = x[:n] + x[n].upper() + x[n+1:]\n",
    "                else:\n",
    "                    print(\"there is no alphabet before 5 so no changes are made\")\n",
    "            # adds \".\" to the end of the string\n",
    "            case \"6\":\n",
    "                flag=True\n",
    "            #changes the case of the first letter\n",
    "            case \"7\":\n",
    "                x=x[0].swapcase()+x[1:]       \n",
    "            #reverses the string\n",
    "            case \"8\":\n",
    "                x=x[::-1]\n",
    "            \n",
    "            \n",
    "                \n",
    "    if flag:\n",
    "        x=x+\".\"\n",
    "        \n",
    "    return x\n",
    "            \n",
    "GoogleLove([\"51221346\"])       "
   ]
  },
  {
   "cell_type": "code",
   "execution_count": null,
   "id": "715a56c5",
   "metadata": {},
   "outputs": [],
   "source": []
  },
  {
   "cell_type": "code",
   "execution_count": null,
   "id": "b0a30a33",
   "metadata": {},
   "outputs": [],
   "source": []
  }
 ],
 "metadata": {
  "kernelspec": {
   "display_name": "Python 3 (ipykernel)",
   "language": "python",
   "name": "python3"
  },
  "language_info": {
   "codemirror_mode": {
    "name": "ipython",
    "version": 3
   },
   "file_extension": ".py",
   "mimetype": "text/x-python",
   "name": "python",
   "nbconvert_exporter": "python",
   "pygments_lexer": "ipython3",
   "version": "3.12.5"
  }
 },
 "nbformat": 4,
 "nbformat_minor": 5
}
