{
 "cells": [
  {
   "cell_type": "code",
   "execution_count": null,
   "id": "24bc5c1b",
   "metadata": {},
   "outputs": [
    {
     "name": "stdout",
     "output_type": "stream",
     "text": [
      "Enter name: \n",
      "Invalid Name. Please enter a valid name.KEVIN GEORGE\n"
     ]
    }
   ],
   "source": [
    "#LAB PROGRAM 6: MULTIPLE INHERITANCE\n",
    "#KEVIN GEORGE\n",
    "#02-08-24\n",
    "\n",
    "\n",
    "class Person:\n",
    "    def __init__(self, name, age):\n",
    "        self.name = name\n",
    "        self.age = age\n",
    "\n",
    "    def display_person_info(self):\n",
    "        print(f\"Name: {self.name}, Age: {self.age}\")\n",
    "\n",
    "class Employee:\n",
    "    def __init__(self, employee_id, salary,experience):\n",
    "        self.employee_id = employee_id\n",
    "        self.salary = salary\n",
    "        self.experience=experience\n",
    "\n",
    "    def display_employee_info(self):\n",
    "        print(f\"Employee ID: {self.employee_id}, Salary: ${self.salary}, Experience:{self.experience}\")\n",
    "\n",
    "class Teacher(Person, Employee):\n",
    "    def __init__(self):\n",
    "        name = self.validate_name(input(\"Enter name: \"))\n",
    "        age = self.validate_age(input(\"Enter age: \"))\n",
    "        employee_id = self.validate_employee_id(input(\"Enter employee ID: \"))\n",
    "        salary = self.validate_salary(float(input(\"Enter salary: \")))\n",
    "        experience=self.validate_experience(input(\"Enter your experience in terms of years: \"))\n",
    "        self.subject = input(\"Enter subject the subject you would like to teach: \")\n",
    "        #you can also instead use a super() to automatically call init methods of parent class;\n",
    "        Person.__init__(self, name, age)#explicitly calls 'person'constructor\n",
    "        Employee.__init__(self, employee_id, salary,experience)#explicitly calls the employee constructor\n",
    "        \n",
    "    def validate_name(self,name):\n",
    "        while not name.isalpha():\n",
    "            name=input(\"Invalid Name. Please enter a valid name.\")\n",
    "        return name\n",
    "        \n",
    "    def validate_age(self, age):\n",
    "        while not age.isdigit() or int(age) <= 0:\n",
    "            age = input(\"Invalid age. Please enter a positive integer for age: \")\n",
    "        return int(age)\n",
    "\n",
    "    def validate_employee_id(self, employee_id):\n",
    "        while not employee_id.isalnum():\n",
    "            employee_id = input(\"Invalid employee ID. Please enter an alphanumeric employee ID: \")\n",
    "        return employee_id\n",
    "\n",
    "    def validate_salary(self, salary):\n",
    "        \n",
    "        while not isinstance(salary, (int, float)) or salary <= 0:\n",
    "            salary = float(input(\"Invalid salary. Please enter a positive number for salary: \"))\n",
    "        return salary\n",
    "\n",
    "    def validate_experience(self,experience):\n",
    "        while not experience.isdigit():\n",
    "            experience=input(\"Invalid entry. Please enter a valid entry:\")\n",
    "        return experience\n",
    "    \n",
    "    def display_teacher_info(self):\n",
    "        self.display_person_info()\n",
    "        self.display_employee_info()\n",
    "        print(f\"Subject: {self.subject}\")\n",
    "\n",
    "# Example usage:\n",
    "teacher = Teacher()\n",
    "teacher.display_teacher_info()\n"
   ]
  },
  {
   "cell_type": "code",
   "execution_count": null,
   "id": "44c86899",
   "metadata": {},
   "outputs": [],
   "source": []
  },
  {
   "cell_type": "code",
   "execution_count": null,
   "id": "4a322ecf",
   "metadata": {},
   "outputs": [],
   "source": []
  }
 ],
 "metadata": {
  "kernelspec": {
   "display_name": "Python 3 (ipykernel)",
   "language": "python",
   "name": "python3"
  },
  "language_info": {
   "codemirror_mode": {
    "name": "ipython",
    "version": 3
   },
   "file_extension": ".py",
   "mimetype": "text/x-python",
   "name": "python",
   "nbconvert_exporter": "python",
   "pygments_lexer": "ipython3",
   "version": "3.12.5"
  }
 },
 "nbformat": 4,
 "nbformat_minor": 5
}
